{
 "cells": [
  {
   "cell_type": "code",
   "execution_count": 1,
   "metadata": {},
   "outputs": [
    {
     "name": "stdout",
     "output_type": "stream",
     "text": [
      "[(1165577652, 1165577908)]\n"
     ]
    }
   ],
   "source": [
    "glitchtime = 1165577780\n",
    "addedtime = 128\n",
    "gpsstart = glitchtime - addedtime\n",
    "gpsend = glitchtime + addedtime\n",
    "duration = (addedtime*2)\n",
    "samplerate = 16384\n",
    "\n",
    "\n",
    "\n",
    "\n",
    "# gets all time segments for the day before the specified event for LIGO Hanford detector\n",
    "from gwosc.timeline import get_segments\n",
    "O2start = (gpsstart) # this is 675 * 128\n",
    "O2end = (gpsend) #(128*5=640) so 670 possible 128's and then 5 are too close so excluded\n",
    "flag = \"H1_CBC_CAT2\"  # get all data that passes the CAT2 veto (i.e. data quality is good)\n",
    "H1segs = get_segments(flag, O2start, O2end)\n",
    "H1nocbc = get_segments(\"H1_NO_CBC_HW_INJ\", O2start, O2end)\n",
    "H1noburst = get_segments(\"H1_NO_BURST_HW_INJ\", O2start, O2end)   \n",
    "from gwpy.segments import SegmentList\n",
    "newH1segs = (SegmentList(H1segs) & SegmentList(H1nocbc)) & SegmentList(H1noburst)\n",
    "print(newH1segs)"
   ]
  },
  {
   "cell_type": "code",
   "execution_count": null,
   "metadata": {},
   "outputs": [],
   "source": []
  }
 ],
 "metadata": {
  "kernelspec": {
   "display_name": "ringdown",
   "language": "python",
   "name": "ringdown"
  },
  "language_info": {
   "codemirror_mode": {
    "name": "ipython",
    "version": 3
   },
   "file_extension": ".py",
   "mimetype": "text/x-python",
   "name": "python",
   "nbconvert_exporter": "python",
   "pygments_lexer": "ipython3",
   "version": "3.7.8"
  }
 },
 "nbformat": 4,
 "nbformat_minor": 4
}

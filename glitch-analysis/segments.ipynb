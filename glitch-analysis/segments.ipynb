{
 "cells": [
  {
   "cell_type": "code",
   "execution_count": 54,
   "metadata": {},
   "outputs": [],
   "source": [
    "from astropy.time import Time\n",
    "\n",
    "inputtime = 58617\n",
    "\n",
    "t = Time(inputtime, format=\"mjd\")\n",
    "gpstime = t.gps\n",
    "\n",
    "#gpsstart = int(gpstime - 262144)\n",
    "#gpsend = int(gpstime + 262144)\n",
    "\n",
    "gpsstart = int(gpstime - 62400)\n",
    "gpsend = int(gpstime + 62400)\n"
   ]
  },
  {
   "cell_type": "code",
   "execution_count": 55,
   "metadata": {},
   "outputs": [
    {
     "ename": "ValueError",
     "evalue": "No datasets found matching [1241764818, 1241889618)",
     "output_type": "error",
     "traceback": [
      "\u001b[0;31m---------------------------------------------------------------------------\u001b[0m",
      "\u001b[0;31mValueError\u001b[0m                                Traceback (most recent call last)",
      "\u001b[0;32m<ipython-input-55-120363a13154>\u001b[0m in \u001b[0;36m<module>\u001b[0;34m\u001b[0m\n\u001b[1;32m      7\u001b[0m \u001b[0;34m\u001b[0m\u001b[0m\n\u001b[1;32m      8\u001b[0m \u001b[0mflag\u001b[0m \u001b[0;34m=\u001b[0m \u001b[0;34m\"H1_CBC_CAT2\"\u001b[0m  \u001b[0;31m# get all data that passes the CAT2 veto (i.e. data quality is good)\u001b[0m\u001b[0;34m\u001b[0m\u001b[0;34m\u001b[0m\u001b[0m\n\u001b[0;32m----> 9\u001b[0;31m \u001b[0mH1segs\u001b[0m \u001b[0;34m=\u001b[0m \u001b[0mget_segments\u001b[0m\u001b[0;34m(\u001b[0m\u001b[0mflag\u001b[0m\u001b[0;34m,\u001b[0m \u001b[0mO2start\u001b[0m\u001b[0;34m,\u001b[0m \u001b[0mO2end\u001b[0m\u001b[0;34m)\u001b[0m\u001b[0;34m\u001b[0m\u001b[0;34m\u001b[0m\u001b[0m\n\u001b[0m\u001b[1;32m     10\u001b[0m \u001b[0mH1nocbc\u001b[0m \u001b[0;34m=\u001b[0m \u001b[0mget_segments\u001b[0m\u001b[0;34m(\u001b[0m\u001b[0;34m\"H1_NO_CBC_HW_INJ\"\u001b[0m\u001b[0;34m,\u001b[0m \u001b[0mO2start\u001b[0m\u001b[0;34m,\u001b[0m \u001b[0mO2end\u001b[0m\u001b[0;34m)\u001b[0m\u001b[0;34m\u001b[0m\u001b[0;34m\u001b[0m\u001b[0m\n\u001b[1;32m     11\u001b[0m \u001b[0mH1noburst\u001b[0m \u001b[0;34m=\u001b[0m \u001b[0mget_segments\u001b[0m\u001b[0;34m(\u001b[0m\u001b[0;34m\"H1_NO_BURST_HW_INJ\"\u001b[0m\u001b[0;34m,\u001b[0m \u001b[0mO2start\u001b[0m\u001b[0;34m,\u001b[0m \u001b[0mO2end\u001b[0m\u001b[0;34m)\u001b[0m\u001b[0;34m\u001b[0m\u001b[0;34m\u001b[0m\u001b[0m\n",
      "\u001b[0;32m~/.conda/envs/ringdown/lib/python3.7/site-packages/gwosc/timeline.py\u001b[0m in \u001b[0;36mget_segments\u001b[0;34m(flag, start, end, host)\u001b[0m\n\u001b[1;32m     63\u001b[0m     \"\"\"\n\u001b[1;32m     64\u001b[0m     return list(map(tuple, api.fetch_json(\n\u001b[0;32m---> 65\u001b[0;31m         timeline_url(flag, start, end, host=host))['segments']))\n\u001b[0m\u001b[1;32m     66\u001b[0m \u001b[0;34m\u001b[0m\u001b[0m\n\u001b[1;32m     67\u001b[0m \u001b[0;34m\u001b[0m\u001b[0m\n",
      "\u001b[0;32m~/.conda/envs/ringdown/lib/python3.7/site-packages/gwosc/timeline.py\u001b[0m in \u001b[0;36mtimeline_url\u001b[0;34m(flag, start, end, host)\u001b[0m\n\u001b[1;32m     70\u001b[0m     \"\"\"\n\u001b[1;32m     71\u001b[0m     \u001b[0mdetector\u001b[0m \u001b[0;34m=\u001b[0m \u001b[0mflag\u001b[0m\u001b[0;34m.\u001b[0m\u001b[0msplit\u001b[0m\u001b[0;34m(\u001b[0m\u001b[0;34m'_'\u001b[0m\u001b[0;34m,\u001b[0m \u001b[0;36m1\u001b[0m\u001b[0;34m)\u001b[0m\u001b[0;34m[\u001b[0m\u001b[0;36m0\u001b[0m\u001b[0;34m]\u001b[0m\u001b[0;34m\u001b[0m\u001b[0;34m\u001b[0m\u001b[0m\n\u001b[0;32m---> 72\u001b[0;31m     \u001b[0mdataset\u001b[0m \u001b[0;34m=\u001b[0m \u001b[0m_find_dataset\u001b[0m\u001b[0;34m(\u001b[0m\u001b[0mstart\u001b[0m\u001b[0;34m,\u001b[0m \u001b[0mend\u001b[0m\u001b[0;34m,\u001b[0m \u001b[0mdetector\u001b[0m\u001b[0;34m,\u001b[0m \u001b[0mhost\u001b[0m\u001b[0;34m=\u001b[0m\u001b[0mhost\u001b[0m\u001b[0;34m)\u001b[0m\u001b[0;34m\u001b[0m\u001b[0;34m\u001b[0m\u001b[0m\n\u001b[0m\u001b[1;32m     73\u001b[0m     return '{}/timeline/segments/json/{}/{}/{}/{}/'.format(\n\u001b[1;32m     74\u001b[0m         host, dataset, flag, start, end-start)\n",
      "\u001b[0;32m~/.conda/envs/ringdown/lib/python3.7/site-packages/gwosc/timeline.py\u001b[0m in \u001b[0;36m_find_dataset\u001b[0;34m(start, end, detector, host)\u001b[0m\n\u001b[1;32m     91\u001b[0m     \u001b[0;32mif\u001b[0m \u001b[0;32mnot\u001b[0m \u001b[0mepochs\u001b[0m\u001b[0;34m:\u001b[0m\u001b[0;34m\u001b[0m\u001b[0;34m\u001b[0m\u001b[0m\n\u001b[1;32m     92\u001b[0m         raise ValueError(\n\u001b[0;32m---> 93\u001b[0;31m             \"No datasets found matching [{}, {})\".format(start, end))\n\u001b[0m\u001b[1;32m     94\u001b[0m \u001b[0;34m\u001b[0m\u001b[0m\n\u001b[1;32m     95\u001b[0m     \u001b[0;32mreturn\u001b[0m \u001b[0msorted\u001b[0m\u001b[0;34m(\u001b[0m\u001b[0mepochs\u001b[0m\u001b[0;34m,\u001b[0m \u001b[0mkey\u001b[0m\u001b[0;34m=\u001b[0m\u001b[0mitemgetter\u001b[0m\u001b[0;34m(\u001b[0m\u001b[0;36m1\u001b[0m\u001b[0;34m,\u001b[0m \u001b[0;36m0\u001b[0m\u001b[0;34m)\u001b[0m\u001b[0;34m)\u001b[0m\u001b[0;34m[\u001b[0m\u001b[0;36m0\u001b[0m\u001b[0;34m]\u001b[0m\u001b[0;34m[\u001b[0m\u001b[0;36m0\u001b[0m\u001b[0;34m]\u001b[0m\u001b[0;34m\u001b[0m\u001b[0;34m\u001b[0m\u001b[0m\n",
      "\u001b[0;31mValueError\u001b[0m: No datasets found matching [1241764818, 1241889618)"
     ]
    }
   ],
   "source": [
    "# segments for LIGO Hanford detector\n",
    "from gwosc.timeline import get_segments\n",
    "O2start = gpsstart\n",
    "O2end = gpsend\n",
    "\n",
    "\n",
    "\n",
    "flag = \"H1_CBC_CAT2\"  # get all data that passes the CAT2 veto (i.e. data quality is good)\n",
    "H1segs = get_segments(flag, O2start, O2end)\n",
    "H1nocbc = get_segments(\"H1_NO_CBC_HW_INJ\", O2start, O2end)\n",
    "H1noburst = get_segments(\"H1_NO_BURST_HW_INJ\", O2start, O2end)   \n",
    "\n",
    "from gwpy.segments import SegmentList\n",
    "newH1segs = (SegmentList(H1segs) & SegmentList(H1nocbc)) & SegmentList(H1noburst)\n",
    "# segments for LIGO Livingston detector\n",
    "flag = \"L1_CBC_CAT2\"\n",
    "L1segs = get_segments(flag, O2start, O2end)  \n",
    "L1nocbc = get_segments(\"L1_NO_CBC_HW_INJ\", O2start, O2end)\n",
    "L1noburst = get_segments(\"L1_NO_BURST_HW_INJ\", O2start, O2end)\n",
    "newL1segs = (SegmentList(L1segs) & SegmentList(L1nocbc)) & SegmentList(L1noburst)"
   ]
  },
  {
   "cell_type": "code",
   "execution_count": 56,
   "metadata": {},
   "outputs": [],
   "source": [
    "for i in range(len(newH1segs)):\n",
    "    print('start time',newH1segs[i][0],'of duration',newH1segs[i][1]-newH1segs[i][0],'to',newH1segs[i][1])"
   ]
  },
  {
   "cell_type": "code",
   "execution_count": 53,
   "metadata": {},
   "outputs": [
    {
     "name": "stdout",
     "output_type": "stream",
     "text": [
      "start time 1180077202 of duration 7086 to 1180084288\n",
      "start time 1180084290 of duration 7856 to 1180092146\n",
      "start time 1180092147 of duration 2 to 1180092149\n",
      "start time 1180092151 of duration 3 to 1180092154\n",
      "start time 1180092156 of duration 1 to 1180092157\n",
      "start time 1180092158 of duration 1 to 1180092159\n",
      "start time 1180092162 of duration 44 to 1180092206\n",
      "start time 1180092208 of duration 3685 to 1180095893\n",
      "start time 1180095896 of duration 7 to 1180095903\n",
      "start time 1180095906 of duration 9010 to 1180104916\n",
      "start time 1180104918 of duration 4 to 1180104922\n",
      "start time 1180104924 of duration 36 to 1180104960\n",
      "start time 1180162865 of duration 6913 to 1180169778\n"
     ]
    }
   ],
   "source": [
    "for i in range(len(newL1segs)):\n",
    "    print('start time',newL1segs[i][0],'of duration',newL1segs[i][1]-newL1segs[i][0],'to',newL1segs[i][1])"
   ]
  },
  {
   "cell_type": "code",
   "execution_count": null,
   "metadata": {},
   "outputs": [],
   "source": []
  },
  {
   "cell_type": "code",
   "execution_count": null,
   "metadata": {},
   "outputs": [],
   "source": []
  }
 ],
 "metadata": {
  "kernelspec": {
   "display_name": "ringdown",
   "language": "python",
   "name": "ringdown"
  },
  "language_info": {
   "codemirror_mode": {
    "name": "ipython",
    "version": 3
   },
   "file_extension": ".py",
   "mimetype": "text/x-python",
   "name": "python",
   "nbconvert_exporter": "python",
   "pygments_lexer": "ipython3",
   "version": "3.7.8"
  }
 },
 "nbformat": 4,
 "nbformat_minor": 4
}

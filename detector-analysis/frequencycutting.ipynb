{
 "cells": [
  {
   "cell_type": "code",
   "execution_count": 5,
   "metadata": {},
   "outputs": [
    {
     "name": "stdout",
     "output_type": "stream",
     "text": [
      "[1469.7709443  1470.16471899 1470.31574121 1470.55859918 1470.9525849\n",
      " 1470.98263994 1471.34667617 1471.64984115 1471.74087303 1502.66792297\n",
      " 1502.67047255 1502.81586584 1503.21849378 1503.35204658 1503.6212296\n",
      " 1503.82188444 1504.02407332 1504.03392975 1504.42702496 1504.71612222\n",
      " 1504.83008456 1505.23325214 1505.3986241  1505.63652774 1506.03991139\n",
      " 1506.08143555]\n",
      "[]\n",
      "[]\n"
     ]
    }
   ],
   "source": [
    "import numpy as np\n",
    "\n",
    "abnormal = np.load('abnormalfrequencies1200to1800.pkl.npy')\n",
    "print(np.sort(abnormal))\n",
    "abnormal2 = np.load('abnormalfrequencies900to1200.pkl.npy')\n",
    "print(abnormal2)\n",
    "abnormal3 = np.load('abnormalfrequencies1800to2400.pkl.npy')\n",
    "print(abnormal3)"
   ]
  },
  {
   "cell_type": "code",
   "execution_count": null,
   "metadata": {},
   "outputs": [],
   "source": []
  }
 ],
 "metadata": {
  "kernelspec": {
   "display_name": "ringdown",
   "language": "python",
   "name": "ringdown"
  },
  "language_info": {
   "codemirror_mode": {
    "name": "ipython",
    "version": 3
   },
   "file_extension": ".py",
   "mimetype": "text/x-python",
   "name": "python",
   "nbconvert_exporter": "python",
   "pygments_lexer": "ipython3",
   "version": "3.7.8"
  }
 },
 "nbformat": 4,
 "nbformat_minor": 4
}
